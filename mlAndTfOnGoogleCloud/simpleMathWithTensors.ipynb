{
 "cells": [
  {
   "cell_type": "code",
   "execution_count": 18,
   "metadata": {},
   "outputs": [],
   "source": [
    "import tensorflow as tf\n",
    "import tensorboard \n",
    "tf.compat.v1.disable_eager_execution()  \n"
   ]
  },
  {
   "cell_type": "code",
   "execution_count": 19,
   "metadata": {},
   "outputs": [],
   "source": [
    "x = tf.constant([1000, 2000, 3000], name='x')\n",
    "y = tf.constant([11, 222, 3333], name='y')"
   ]
  },
  {
   "cell_type": "code",
   "execution_count": 20,
   "metadata": {},
   "outputs": [],
   "source": [
    "sum_x = tf.reduce_sum(x, name=\"sum_X\")\n",
    "prod_y = tf.reduce_prod(y, name=\"prod_y\")\n",
    "\n",
    "final_div = tf.divide(sum_x, prod_y, name=\"final_div\")\n",
    "final_mean= tf.reduce_mean([sum_x, prod_y], name=\"final_mean\")"
   ]
  },
  {
   "cell_type": "code",
   "execution_count": 21,
   "metadata": {},
   "outputs": [],
   "source": [
    "sess = tf.compat.v1.Session()\n",
    "# To avoid runtime error:\n",
    "    ## The Session graph is empty. Add operations to the graph before calling run().\n"
   ]
  },
  {
   "cell_type": "code",
   "execution_count": 22,
   "metadata": {},
   "outputs": [
    {
     "name": "stdout",
     "output_type": "stream",
     "text": [
      "x: [1000 2000 3000]\n",
      "y: [  11  222 3333]\n",
      "sum(x): 6000\n",
      "prod(y): 8139186\n",
      "sum(x) / prod(y): 0.0007371744545461918\n",
      "mean(sum(x), prod(y)): 4072593\n"
     ]
    }
   ],
   "source": [
    "print(\"x:\", sess.run(x))\n",
    "print(\"y:\", sess.run(y))\n",
    "print(\"sum(x):\", sess.run(sum_x))\n",
    "print(\"prod(y):\", sess.run(prod_y))\n",
    "print(\"sum(x) / prod(y):\", sess.run(final_div))\n",
    "print(\"mean(sum(x), prod(y)):\", sess.run(final_mean))"
   ]
  },
  {
   "cell_type": "code",
   "execution_count": 23,
   "metadata": {},
   "outputs": [],
   "source": [
    "writer = tf.compat.v1.summary.FileWriter('SimpleMathWithTensors', sess.graph)\n",
    "writer.close()"
   ]
  }
 ],
 "metadata": {
  "kernelspec": {
   "display_name": "Python 3",
   "language": "python",
   "name": "python3"
  },
  "language_info": {
   "codemirror_mode": {
    "name": "ipython",
    "version": 3
   },
   "file_extension": ".py",
   "mimetype": "text/x-python",
   "name": "python",
   "nbconvert_exporter": "python",
   "pygments_lexer": "ipython3",
   "version": "3.7.4"
  }
 },
 "nbformat": 4,
 "nbformat_minor": 2
}
