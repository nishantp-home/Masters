{
 "cells": [
  {
   "cell_type": "code",
   "execution_count": 7,
   "metadata": {},
   "outputs": [],
   "source": [
    "import tensorflow as tf \n",
    "import tensorboard\n",
    "tf.compat.v1.disable_eager_execution()  \n"
   ]
  },
  {
   "cell_type": "code",
   "execution_count": 8,
   "metadata": {},
   "outputs": [],
   "source": [
    "x = tf.compat.v1.placeholder(tf.int32, shape=[3], name=\"x\")\n",
    "y = tf.compat.v1.placeholder(tf.int32, shape=[3], name=\"y\")\n"
   ]
  },
  {
   "cell_type": "code",
   "execution_count": 9,
   "metadata": {},
   "outputs": [],
   "source": [
    "sum_x = tf.reduce_sum(x, name=\"sum_x\")\n",
    "prod_y = tf.reduce_prod(y, name=\"prod_y\")"
   ]
  },
  {
   "cell_type": "code",
   "execution_count": 10,
   "metadata": {},
   "outputs": [],
   "source": [
    "final_div = tf.divide(sum_x, prod_y, name=\"final_div\")"
   ]
  },
  {
   "cell_type": "code",
   "execution_count": 11,
   "metadata": {},
   "outputs": [
    {
     "name": "stdout",
     "output_type": "stream",
     "text": [
      "sum(x): 600\n",
      "prod(y): 726\n",
      "sum(x)/prod(y): 100.0\n"
     ]
    }
   ],
   "source": [
    "\n",
    "with tf.compat.v1.Session() as sess:\n",
    "    print(\"sum(x):\", sess.run(sum_x, feed_dict={x: [100, 200, 300]}))\n",
    "    print(\"prod(y):\", sess.run(prod_y, feed_dict={y: [1, 22, 33]}))\n",
    "    print(\"sum(x)/prod(y):\", sess.run(final_div, feed_dict={x: [100, 200, 300], y: [1, 2, 3]}))\n",
    "\n",
    "\n",
    "    writer = tf.compat.v1.summary.FileWriter('SimpleMathWithPlaceHolders', sess.graph)\n",
    "    writer.close()\n",
    "    "
   ]
  }
 ],
 "metadata": {
  "kernelspec": {
   "display_name": "Python 3",
   "language": "python",
   "name": "python3"
  },
  "language_info": {
   "codemirror_mode": {
    "name": "ipython",
    "version": 3
   },
   "file_extension": ".py",
   "mimetype": "text/x-python",
   "name": "python",
   "nbconvert_exporter": "python",
   "pygments_lexer": "ipython3",
   "version": "3.7.4"
  }
 },
 "nbformat": 4,
 "nbformat_minor": 2
}
