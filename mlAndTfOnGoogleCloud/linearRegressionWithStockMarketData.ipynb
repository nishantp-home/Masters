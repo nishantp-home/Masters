{
 "cells": [
  {
   "cell_type": "code",
   "execution_count": null,
   "metadata": {},
   "outputs": [],
   "source": [
    "import numpy as np \n",
    "import pandas as pd "
   ]
  },
  {
   "cell_type": "code",
   "execution_count": null,
   "metadata": {},
   "outputs": [],
   "source": [
    "def read_goog_sp500_dataframe():\n",
    "    \"\"\"Returns a dataframe with the results (percentage change of adjusted prices with months) \n",
    "    for Google and S&P 500.\"\"\"\n",
    "    \n",
    "    filePath = \"E:\\\\Eskills-Academy-projects\\\\LearningTensorFlow\\\\data\\\\\"\n",
    "    googFile = filePath + \"GOOG.csv\"\n",
    "    spFILE = filePath + \"SP_500.csv\"\n",
    "\n",
    "    goog = pd.read_csv(googFile, sep=\",\", usecols=[0, 5], names=['Date', 'Goog'], header=0)\n",
    "    sp = pd.read_csv(spFILE, sep=\",\", usecols=[0, 5], names=['Date', 'SP500'], header=0)\n",
    "\n",
    "    goog['SP500'] = sp['SP500']\n",
    "\n",
    "    # Convert string format to date \n",
    "    goog['Date'] = pd.to_datetime(goog['Date'], format='%Y-%m-%d')\n",
    "\n",
    "    goog = goog.sort_values(['Date'], ascending=[True])\n",
    "    returns = goog[[key for key in dict(goog.dtypes) if dict(goog.dtypes)[key] in ['float64', 'int64']]].pct_change()\n",
    "\n",
    "    return returns\n"
   ]
  },
  {
   "cell_type": "code",
   "execution_count": null,
   "metadata": {},
   "outputs": [],
   "source": [
    "def read_goog_sp500_data():\n",
    "    \"\"\"Returns a tuple with 2 fields, the returns for Google and S&P 500.\n",
    "    Each of the returns are in the form of a 1D array\"\"\"\n",
    "\n",
    "    returns = read_goog_sp500_dataframe()\n",
    "\n",
    "    # Filter out the very first row which doesnot have any value for returns.\n",
    "    xData = np.array(returns[\"SP500\"])[1:]\n",
    "    yData = np.array(returns[\"Goog\"])[1:]\n",
    "\n",
    "    return (xData, yData)\n"
   ]
  },
  {
   "cell_type": "code",
   "execution_count": null,
   "metadata": {},
   "outputs": [],
   "source": [
    "from sklearn import linear_model\n",
    "\n",
    "xData, yData = read_goog_sp500_data()\n"
   ]
  },
  {
   "cell_type": "code",
   "execution_count": null,
   "metadata": {},
   "outputs": [],
   "source": [
    "# Set up a linear model\n",
    "googModel = linear_model.LinearRegression()\n",
    "googModel.fit(xData.reshape(-1,1), yData.reshape(-1,1))\n"
   ]
  },
  {
   "cell_type": "code",
   "execution_count": null,
   "metadata": {},
   "outputs": [],
   "source": [
    "# Find the coefficient and intercept of this linear model\n",
    "print(googModel.coef_)\n",
    "print(googModel.intercept_)\n"
   ]
  },
  {
   "cell_type": "code",
   "execution_count": null,
   "metadata": {},
   "outputs": [],
   "source": [
    "import matplotlib.pyplot as plt \n",
    "\n",
    "plt.scatter(xData, yData, alpha=0.5, s=60)\n",
    "margin=1.1\n",
    "x = np.linspace(margin*xData.min(), margin*xData.max(), 100)\n",
    "y = googModel.coef_.item() * x + googModel.intercept_.item()\n",
    "plt.plot(x, y, color=\"k\", lw=2.5)\n",
    "plt.title(\"Google vs S&P 500 stock prices change in percentage\")\n",
    "plt.xlabel(\"Google [percent change]\")\n",
    "plt.ylabel(\"S&P 500 [percent change]\")\n",
    "plt.show()"
   ]
  },
  {
   "cell_type": "code",
   "execution_count": null,
   "metadata": {},
   "outputs": [],
   "source": [
    "import tensorflow as tf \n",
    "tf.compat.v1.disable_eager_execution()\n",
    "# Model linear regression y = W*x + b\n",
    "W = tf.Variable(tf.zeros([1,1]), name=\"W\")\n",
    "b = tf.Variable(tf.zeros([1]), name=\"b\")\n",
    "x = tf.compat.v1.placeholder(tf.float32, [None, 1], name=\"x\")"
   ]
  },
  {
   "cell_type": "code",
   "execution_count": null,
   "metadata": {},
   "outputs": [],
   "source": [
    "# x has many rows and 1 column, W is 1X1 matrix\n",
    "Wx = tf.matmul(x, W)\n",
    "y = Wx + b"
   ]
  },
  {
   "cell_type": "code",
   "execution_count": null,
   "metadata": {},
   "outputs": [],
   "source": [
    "y_ = tf.compat.v1.placeholder(tf.float32, [None, 1], name=\"y_\")  # Actual value\n",
    "cost = tf.reduce_mean(tf.square(y_ - y))\n",
    "train_step_ftrl = tf.compat.v1.train.FtrlOptimizer(1.0).minimize(cost)\n",
    "\n",
    "# Total number of points for our x values\n",
    "dataset_size = len(xData)"
   ]
  },
  {
   "cell_type": "code",
   "execution_count": null,
   "metadata": {},
   "outputs": [],
   "source": [
    "def trainWithMultiplePointsPerEpoch(steps, train_step, batch_size):\n",
    "    init = tf.compat.v1.global_variables_initializer()\n",
    "\n",
    "    with tf.compat.v1.Session() as sess:\n",
    "        sess.run(init)\n",
    "        for step in range(steps):\n",
    "\n",
    "            if dataset_size == batch_size:\n",
    "                batch_start_idx = 0\n",
    "            elif dataset_size < batch_size:\n",
    "                raise ValueError(\"data set size: %d, must be greater than the batch_size: %d\"%(dataset_size, batch_size))\n",
    "            else:\n",
    "                batch_start_idx =(step*batch_size) % dataset_size\n",
    "\n",
    "            batch_end_idx = batch_start_idx + batch_size\n",
    "\n",
    "            # Access the x and y values in batches\n",
    "            batch_xs = xData[batch_start_idx : batch_end_idx]\n",
    "            batch_ys = yData[batch_start_idx : batch_end_idx]\n",
    "\n",
    "            # Reshape the 1-D arrays as 2D feature vectors with many rows and 1-column\n",
    "            feed = {x: batch_xs.reshape(-1,1), y_:batch_ys.reshape(-1,1)}\n",
    "            sess.run(train_step, feed_dict=feed)\n",
    "\n",
    "            # Print result to scren for every 500 iterations\n",
    "            if (step + 1) % 500 == 0:\n",
    "                print(\"After %d iterations\"%step)\n",
    "                print(\"W: %f\"%sess.run(W))\n",
    "                print(\"b: %f\"%sess.run(b))\n",
    "                print(\"cost: %f\" % sess.run(cost, feed_dict=feed))\n",
    "                \n"
   ]
  },
  {
   "cell_type": "code",
   "execution_count": null,
   "metadata": {},
   "outputs": [],
   "source": [
    "trainWithMultiplePointsPerEpoch(steps=5000, train_step=train_step_ftrl, batch_size=dataset_size)"
   ]
  },
  {
   "cell_type": "code",
   "execution_count": null,
   "metadata": {},
   "outputs": [],
   "source": [
    "def read_xom_oil_nasdaq_data():\n",
    "    \"\"\"Returns a tuple with 3 fields, the returns for Exxon Mobil, Nasdaq and oil prices.\n",
    "    Each of the returns are in the form of a 1D array\"\"\"\n",
    "\n",
    "    def readFile(fileName):\n",
    "        # Only read in the date and price at columns 0 and 5\n",
    "        data = pd.read_csv(fileName, sep=\",\", usecols=[0, 5], names=[\"Date\", \"Price\"], header=0)\n",
    "\n",
    "        # sort the data in ascending order of date so returns can be computed\n",
    "        data = data.sort_values([\"Date\"], ascending=[True])\n",
    "\n",
    "        # Exclude the date from the precentage change calculation\n",
    "        returns = data[[key for key in dict(data.dtypes) if dict(data.dtypes)[key] in ['float64', 'int64']]].pct_change()\n",
    "\n",
    "        # Filter out the very first row which is NAN\n",
    "        return np.array(returns['Price'])[1:]\n",
    "    \n",
    "    filePath = \"E:\\\\Eskills-Academy-projects\\\\LearningTensorFlow\\\\data\\\\\"\n",
    "    nasdaqFile = filePath + \"NASDAQ.csv\"\n",
    "    oilFile = filePath + \"USO.csv\"\n",
    "    xomFile = filePath + \"XOM.csv\"\n",
    "    nasdaqData = readFile(nasdaqFile)\n",
    "    oilData = readFile(oilFile)\n",
    "    xomData = readFile(xomFile)\n",
    "\n",
    "    return (nasdaqData, oilData, xomData)"
   ]
  },
  {
   "cell_type": "code",
   "execution_count": null,
   "metadata": {},
   "outputs": [],
   "source": [
    "import numpy as np\n",
    "from sklearn import datasets, linear_model"
   ]
  },
  {
   "cell_type": "code",
   "execution_count": null,
   "metadata": {},
   "outputs": [],
   "source": [
    "nasdaqData, oilData, xomData = read_xom_oil_nasdaq_data()\n",
    "combined = np.vstack((nasdaqData, oilData)).T\n"
   ]
  },
  {
   "cell_type": "code",
   "execution_count": null,
   "metadata": {},
   "outputs": [],
   "source": [
    "xomNasdaqOilModel = linear_model.LinearRegression()\n",
    "xomNasdaqOilModel.fit(combined, xomData)\n",
    "print(\"score:\", xomNasdaqOilModel.score(combined, xomData))\n"
   ]
  },
  {
   "cell_type": "code",
   "execution_count": null,
   "metadata": {},
   "outputs": [],
   "source": [
    "print(\"W:\", xomNasdaqOilModel.coef_)\n",
    "print(\"b:\", xomNasdaqOilModel.intercept_)"
   ]
  },
  {
   "cell_type": "code",
   "execution_count": null,
   "metadata": {},
   "outputs": [],
   "source": [
    "# Model linear regression y = W1*x1 + W2*x2 + b\n",
    "nasdaq_W = tf.Variable(tf.zeros([1,1]), name=\"nasdaq_W\")\n",
    "oil_W = tf.Variable(tf.zeros([1,1]), name=\"oil_W\")\n",
    "b = tf.Variable(tf.zeros([1]), name=\"b\")\n",
    "nasdaq_x = tf.compat.v1.placeholder(tf.float32, [None, 1], name=\"nasdaq_x\")\n",
    "oil_x = tf.compat.v1.placeholder(tf.float32, [None, 1], name=\"oil_x\")\n",
    "\n",
    "nasdaq_Wx = tf.matmul(nasdaq_x, nasdaq_W)\n",
    "oil_Wx = tf.matmul(oil_x, oil_W)\n",
    "\n",
    "y = nasdaq_Wx + oil_Wx + b\n",
    "y_ = tf.compat.v1.placeholder(tf.float32, [None, 1])\n",
    "cost = tf.reduce_mean(tf.square(y_ - y))"
   ]
  },
  {
   "cell_type": "code",
   "execution_count": null,
   "metadata": {},
   "outputs": [],
   "source": [
    "train_step_ftrl = tf.compat.v1.train.FtrlOptimizer(1.0).minimize(cost)\n",
    "\n",
    "all_x_nasdaq = nasdaqData.reshape(-1,1)\n",
    "all_x_oil = oilData.reshape(-1,1)\n",
    "all_ys = xomData.reshape(-1,1)"
   ]
  },
  {
   "cell_type": "code",
   "execution_count": null,
   "metadata": {},
   "outputs": [],
   "source": [
    "dataset_size = len(oilData)"
   ]
  },
  {
   "cell_type": "code",
   "execution_count": null,
   "metadata": {},
   "outputs": [],
   "source": [
    "def trainWithMultiplePointsPerEpoch2(steps, train_step, batch_size):\n",
    "    init = tf.compat.v1.global_variables_initializer()\n",
    "\n",
    "    with tf.compat.v1.Session() as sess:\n",
    "        sess.run(init)\n",
    "        for epoch in range(steps):\n",
    "\n",
    "            if dataset_size == batch_size:\n",
    "                batch_start_idx = 0\n",
    "            elif dataset_size < batch_size:\n",
    "                raise ValueError(\"data set size: %d, must be greater than the batch_size: %d\"%(dataset_size, batch_size))\n",
    "            else:\n",
    "                batch_start_idx =(epoch*batch_size) % dataset_size\n",
    "\n",
    "            batch_end_idx = batch_start_idx + batch_size\n",
    "\n",
    "            # Access the x and y values in batches\n",
    "            batch_x_nasdaq = all_x_nasdaq[batch_start_idx : batch_end_idx]\n",
    "            batch_x_oil = all_x_oil[batch_start_idx : batch_end_idx]\n",
    "            batch_ys = all_ys[batch_start_idx : batch_end_idx]\n",
    "\n",
    "            # Reshape the 1-D arrays as 2D feature vectors with many rows and 1-column\n",
    "            feed = {nasdaq_x: batch_x_nasdaq, oil_x: batch_x_oil, y_: batch_ys}\n",
    "            sess.run(train_step, feed_dict=feed)\n",
    "\n",
    "            # Print result to scren for every 500 iterations\n",
    "            if (epoch + 1) % 500 == 0:\n",
    "                print(\"After %d iterations\"%epoch)\n",
    "                print(\"W1: %f\"%sess.run(nasdaq_W))\n",
    "                print(\"W2: %f\"%sess.run(oil_W))\n",
    "                print(\"b: %f\"%sess.run(b))\n",
    "                print(\"cost: %f\" % sess.run(cost, feed_dict=feed))"
   ]
  },
  {
   "cell_type": "code",
   "execution_count": null,
   "metadata": {},
   "outputs": [],
   "source": [
    "trainWithMultiplePointsPerEpoch2(5000, train_step_ftrl, len(oilData))"
   ]
  }
 ],
 "metadata": {
  "kernelspec": {
   "display_name": "Python 3",
   "language": "python",
   "name": "python3"
  },
  "language_info": {
   "codemirror_mode": {
    "name": "ipython",
    "version": 3
   },
   "file_extension": ".py",
   "mimetype": "text/x-python",
   "name": "python",
   "nbconvert_exporter": "python",
   "pygments_lexer": "ipython3",
   "version": "3.7.4"
  }
 },
 "nbformat": 4,
 "nbformat_minor": 2
}
