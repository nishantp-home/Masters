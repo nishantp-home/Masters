{
 "cells": [
  {
   "cell_type": "code",
   "execution_count": 14,
   "metadata": {},
   "outputs": [],
   "source": [
    "import tensorflow as tf \n",
    "import tensorboard as tb\n",
    "tf.compat.v1.disable_eager_execution()\n"
   ]
  },
  {
   "cell_type": "code",
   "execution_count": 16,
   "metadata": {},
   "outputs": [
    {
     "name": "stdout",
     "output_type": "stream",
     "text": [
      "Tensor(\"final_sum_4:0\", shape=(), dtype=float32)\n"
     ]
    }
   ],
   "source": [
    "a = tf.constant(6.5, name=\"constant_a\")\n",
    "b = tf.constant(3.4, name=\"constant_b\")\n",
    "c = tf.constant(3.0, name=\"constant_c\")\n",
    "d = tf.constant(100.2, name=\"constant_d\")\n",
    "\n",
    "add = tf.add(a, b, name=\"add_ab\")\n",
    "subtract = tf.subtract(b, c, name=\"subtract_bc\")\n",
    "square = tf.square(d, name=\"squared_d\")\n",
    "\n",
    "final_sum = tf.add_n([add, subtract, square], name=\"final_sum\")\n",
    "print(final_sum)"
   ]
  },
  {
   "cell_type": "code",
   "execution_count": 9,
   "metadata": {},
   "outputs": [
    {
     "name": "stdout",
     "output_type": "stream",
     "text": [
      "a + b : 9.9\n",
      "b - c : 0.4000001\n",
      "Square of d : 10040.039\n",
      "Final sum : 10050.34\n"
     ]
    }
   ],
   "source": [
    "with tf.compat.v1.Session() as sess:\n",
    "    print(\"a + b :\", sess.run(add))\n",
    "    print(\"b - c :\", sess.run(subtract))\n",
    "    print(\"Square of d :\", sess.run(square))\n",
    "\n",
    "    print(\"Final sum :\", sess.run(final_sum))\n",
    "    another_sum = tf.add_n([a, b, c, d, square], name=\"another_sum\")\n",
    "    writer = tf.compat.v1.summary.FileWriter('SimpleMath', sess.graph)\n",
    "    writer.close()"
   ]
  },
  {
   "cell_type": "code",
   "execution_count": null,
   "metadata": {},
   "outputs": [],
   "source": []
  }
 ],
 "metadata": {
  "kernelspec": {
   "display_name": "Python 3",
   "language": "python",
   "name": "python3"
  },
  "language_info": {
   "codemirror_mode": {
    "name": "ipython",
    "version": 3
   },
   "file_extension": ".py",
   "mimetype": "text/x-python",
   "name": "python",
   "nbconvert_exporter": "python",
   "pygments_lexer": "ipython3",
   "version": "3.7.4"
  }
 },
 "nbformat": 4,
 "nbformat_minor": 2
}
