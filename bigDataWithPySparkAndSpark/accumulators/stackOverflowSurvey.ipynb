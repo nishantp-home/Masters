{
 "cells": [
  {
   "cell_type": "code",
   "execution_count": null,
   "metadata": {},
   "outputs": [],
   "source": [
    "# Import relevant packages\n",
    "import findspark\n",
    "findspark.init()\n",
    "from pyspark import SparkConf, SparkContext\n",
    "from Utils import Utils\n"
   ]
  },
  {
   "cell_type": "code",
   "execution_count": null,
   "metadata": {},
   "outputs": [],
   "source": [
    "configuration = SparkConf().setAppName(\"StackOverflowSurvey\").setMaster(\"local[*]\")\n",
    "sc = SparkContext(conf=configuration)\n"
   ]
  },
  {
   "cell_type": "code",
   "execution_count": null,
   "metadata": {},
   "outputs": [],
   "source": [
    "# Inititialize Accumulators \n",
    "total = sc.accumulator(0)   # To count the total number of record\n",
    "missingSalaryMidPoint = sc.accumulator(0)   # To count the recordes with missing salary midpoints\n",
    "processedBytes = sc.accumulator(0)"
   ]
  },
  {
   "cell_type": "code",
   "execution_count": null,
   "metadata": {},
   "outputs": [],
   "source": [
    "filePath = 'e:\\\\Eskills-Academy-projects\\\\python-spark-tutorial-master\\\\in\\\\'\n",
    "fileName = \"2016-stack-overflow-survey-responses.csv\"\n",
    "responseRDD = sc.textFile(filePath+fileName)"
   ]
  },
  {
   "cell_type": "code",
   "execution_count": null,
   "metadata": {},
   "outputs": [],
   "source": [
    "def filterResponseFromCanada(response):\n",
    "    processedBytes.add(len(response.encode('utf-8')))\n",
    "    splits = Utils.COMMA_DELIMITER.split(response)\n",
    "    total.add(1)\n",
    "    if not splits[14]:\n",
    "        missingSalaryMidPoint.add(1)\n",
    "    return splits[2] == \"Canada\"\n",
    "\n",
    "responseFromCanada = responseRDD.filter(filterResponseFromCanada)"
   ]
  },
  {
   "cell_type": "code",
   "execution_count": null,
   "metadata": {},
   "outputs": [],
   "source": [
    "print(\"Count of responses from Canada:\", responseFromCanada.count())\n",
    "print(\"Total count of responses:\", total.value)\n",
    "print(\"Count of responses with missing salary midpoint:\", missingSalaryMidPoint.value)\n",
    "print(\"Number of bytes processes:\", processedBytes.value)\n"
   ]
  },
  {
   "cell_type": "code",
   "execution_count": null,
   "metadata": {},
   "outputs": [],
   "source": [
    "# Broadcast variables\n",
    "# How are those make spaces distributed across different regions in the UK\n",
    "    # 1. Load postcode dataset and broadcast it across the cluster\n",
    "    # 2. load the maker space dataset and call map operation on the maker space RDD \n",
    "    #    to look up the region using the postcode of the make space\n",
    "filePath = 'e:\\\\Eskills-Academy-projects\\\\python-spark-tutorial-master\\\\in\\\\'\n",
    "fileName = \"uk-makerspaces-identifiable-data.csv\"\n",
    "makerSpaceRDD = sc.textFile(filePath+fileName)\n"
   ]
  },
  {
   "cell_type": "code",
   "execution_count": null,
   "metadata": {},
   "outputs": [],
   "source": [
    "fileName2 = \"uk-postcode.csv\"\n",
    "\n",
    "def loadPostCodeMap():\n",
    "    lines = open(filePath+fileName2, \"r\").read().split(\"\\n\")\n",
    "    splitsForLines = [Utils.COMMA_DELIMITER.split(line) for line in lines if line != \"\"]\n",
    "    return {splits[0]: splits[7] for splits in splitsForLines}  #returns a dictionary of postcode prefix as keys and region as value\n",
    "\n",
    "def getPostPrefix(line: str):\n",
    "    splits = Utils.COMMA_DELIMITER.split(line)\n",
    "    postCode = splits[4]\n",
    "    return None if not postCode else postCode.split(\" \")[0]\n",
    "\n"
   ]
  },
  {
   "cell_type": "code",
   "execution_count": null,
   "metadata": {},
   "outputs": [],
   "source": [
    "postCodeMap = sc.broadcast(loadPostCodeMap())\n",
    "regions = makerSpaceRDD.filter(lambda line: Utils.COMMA_DELIMITER.split(line)[0]!= \"Timestamp\"\n",
    "                               ).filter(lambda line: getPostPrefix(line) is not None\n",
    "                                        ).map(lambda line: postCodeMap.value[getPostPrefix(line)] \n",
    "                                              if getPostPrefix(line) in postCodeMap.value else \"Unknown\")"
   ]
  },
  {
   "cell_type": "code",
   "execution_count": null,
   "metadata": {},
   "outputs": [],
   "source": [
    "for region, count in regions.countByValue().items():\n",
    "    print(\"{}:{}\".format(region, count))"
   ]
  }
 ],
 "metadata": {
  "kernelspec": {
   "display_name": "Python 3",
   "language": "python",
   "name": "python3"
  },
  "language_info": {
   "codemirror_mode": {
    "name": "ipython",
    "version": 3
   },
   "file_extension": ".py",
   "mimetype": "text/x-python",
   "name": "python",
   "nbconvert_exporter": "python",
   "pygments_lexer": "ipython3",
   "version": "3.7.4"
  },
  "orig_nbformat": 4
 },
 "nbformat": 4,
 "nbformat_minor": 2
}
