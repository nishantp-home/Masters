{
 "cells": [
  {
   "cell_type": "code",
   "execution_count": null,
   "metadata": {},
   "outputs": [],
   "source": [
    "import findspark \n",
    "findspark.init()\n",
    "from pyspark.sql import SparkSession\n",
    "\n",
    "AGE_MIDPOINT = \"age_midpoint\"\n",
    "SALARY_MIDPOINT = \"salary_midpoint\"\n",
    "SALARY_MIDPOINT_BUCKET = \"salary_midpoint_bucket\"\n",
    "\n",
    "session = SparkSession.builder.appName(\"StackOverflowSurvey\").master(\"local[1]\").getOrCreate()\n",
    "dataFrameReader = session.read"
   ]
  },
  {
   "cell_type": "code",
   "execution_count": null,
   "metadata": {},
   "outputs": [],
   "source": [
    "filePath = 'e:\\\\Eskills-Academy-projects\\\\python-spark-tutorial-master\\\\in\\\\'\n",
    "fileName = \"2016-stack-overflow-survey-responses.csv\"\n",
    "file = filePath + fileName\n",
    "responses = dataFrameReader.option(\"header\", \"true\").option(\"inferSchema\", value= True).csv(file)\n",
    "print(\"===== Print out schema =====\")\n",
    "responses.printSchema()"
   ]
  },
  {
   "cell_type": "code",
   "execution_count": 6,
   "metadata": {},
   "outputs": [
    {
     "name": "stdout",
     "output_type": "stream",
     "text": [
      "=== Print the selected columns of the table ===\n",
      "+-----------+--------------------+------------+---------------+\n",
      "|    country|          occupation|age_midpoint|salary_midpoint|\n",
      "+-----------+--------------------+------------+---------------+\n",
      "|Afghanistan|                NULL|        22.0|           NULL|\n",
      "|Afghanistan|Mobile developer ...|        32.0|        45000.0|\n",
      "|Afghanistan|                NULL|        NULL|           NULL|\n",
      "|Afghanistan|              DevOps|        NULL|         5000.0|\n",
      "|Afghanistan|                NULL|        65.0|           NULL|\n",
      "|Afghanistan|                NULL|        22.0|           NULL|\n",
      "|Afghanistan|       Growth hacker|        NULL|       210000.0|\n",
      "|Afghanistan|Back-end web deve...|        27.0|         5000.0|\n",
      "|    Albania|                NULL|        27.0|           NULL|\n",
      "|    Albania|Back-end web deve...|        22.0|         5000.0|\n",
      "|    Albania|Full-stack web de...|        27.0|         5000.0|\n",
      "|    Albania|Full-stack web de...|        22.0|        15000.0|\n",
      "|    Albania|Full-stack web de...|        27.0|         5000.0|\n",
      "|    Albania|Back-end web deve...|        27.0|         5000.0|\n",
      "|    Albania|Back-end web deve...|        22.0|        15000.0|\n",
      "|    Algeria|                NULL|        44.5|           NULL|\n",
      "|    Algeria|   Desktop developer|        27.0|           NULL|\n",
      "|    Algeria|             Student|        16.0|           NULL|\n",
      "|    Algeria|                NULL|        22.0|           NULL|\n",
      "|    Algeria|   Desktop developer|        27.0|        15000.0|\n",
      "+-----------+--------------------+------------+---------------+\n",
      "only showing top 20 rows\n",
      "\n"
     ]
    }
   ],
   "source": [
    "responseWithSelectedColumns = responses.select(\"country\", \"occupation\", AGE_MIDPOINT, SALARY_MIDPOINT)\n",
    "print(\"=== Print the selected columns of the table ===\")\n",
    "responseWithSelectedColumns.show()"
   ]
  },
  {
   "cell_type": "code",
   "execution_count": null,
   "metadata": {},
   "outputs": [],
   "source": [
    "print(\"=== Print records where the response is from Afghanistan ===\")\n",
    "responseWithSelectedColumns.filter(responseWithSelectedColumns[\"country\"] == \"Afghanistan\").show()"
   ]
  },
  {
   "cell_type": "code",
   "execution_count": null,
   "metadata": {},
   "outputs": [],
   "source": [
    "print(\"=== Print the count of occupations ===\")\n",
    "groupedData = responseWithSelectedColumns.groupBy(\"occupation\")\n",
    "groupedData.count().show()\n"
   ]
  },
  {
   "cell_type": "code",
   "execution_count": null,
   "metadata": {},
   "outputs": [],
   "source": [
    "print(\"=== Print records with average mid age less than 20 ===\")\n",
    "responseWithSelectedColumns.filter(responseWithSelectedColumns[AGE_MIDPOINT] < 20).show()"
   ]
  },
  {
   "cell_type": "code",
   "execution_count": null,
   "metadata": {},
   "outputs": [],
   "source": [
    "print(\"=== Print the result by salary middle point in descending order ===\")\n",
    "responseWithSelectedColumns.orderBy(responseWithSelectedColumns[SALARY_MIDPOINT], ascending=False).show()"
   ]
  },
  {
   "cell_type": "code",
   "execution_count": null,
   "metadata": {},
   "outputs": [],
   "source": [
    "print(\"=== Group by country and aggregate by average salary middle point ===\")\n",
    "responseWithSelectedColumns.groupBy(\"country\").avg(SALARY_MIDPOINT).show()\n"
   ]
  },
  {
   "cell_type": "code",
   "execution_count": 17,
   "metadata": {},
   "outputs": [
    {
     "name": "stdout",
     "output_type": "stream",
     "text": [
      "=== With by salary bucket ===\n",
      "+---------------+----------------------+\n",
      "|salary_midpoint|salary_midpoint_bucket|\n",
      "+---------------+----------------------+\n",
      "|           NULL|                  NULL|\n",
      "|        45000.0|                 40000|\n",
      "|           NULL|                  NULL|\n",
      "|         5000.0|                     0|\n",
      "|           NULL|                  NULL|\n",
      "|           NULL|                  NULL|\n",
      "|       210000.0|                200000|\n",
      "|         5000.0|                     0|\n",
      "|           NULL|                  NULL|\n",
      "|         5000.0|                     0|\n",
      "|         5000.0|                     0|\n",
      "|        15000.0|                     0|\n",
      "|         5000.0|                     0|\n",
      "|         5000.0|                     0|\n",
      "|        15000.0|                     0|\n",
      "|           NULL|                  NULL|\n",
      "|           NULL|                  NULL|\n",
      "|           NULL|                  NULL|\n",
      "|           NULL|                  NULL|\n",
      "|        15000.0|                     0|\n",
      "+---------------+----------------------+\n",
      "only showing top 20 rows\n",
      "\n",
      "=== Group by salary bucket ===\n",
      "+----------------------+-----+\n",
      "|salary_midpoint_bucket|count|\n",
      "+----------------------+-----+\n",
      "|                  NULL|  566|\n",
      "|                     0|  523|\n",
      "|                 20000|  351|\n",
      "|                 40000|  260|\n",
      "|                 60000|  134|\n",
      "|                 80000|   63|\n",
      "|                100000|   51|\n",
      "|                120000|   23|\n",
      "|                140000|   11|\n",
      "|                160000|    5|\n",
      "|                180000|    3|\n",
      "|                200000|    9|\n",
      "+----------------------+-----+\n",
      "\n"
     ]
    }
   ],
   "source": [
    "responseWithSalaryBucket = responses.withColumn(SALARY_MIDPOINT_BUCKET, ((responses[SALARY_MIDPOINT]/20000).cast(\"integer\")*20000))\n",
    "print(\"=== With by salary bucket ===\")\n",
    "responseWithSalaryBucket.select(SALARY_MIDPOINT, SALARY_MIDPOINT_BUCKET).show()\n",
    "\n",
    "print(\"=== Group by salary bucket ===\")\n",
    "responseWithSalaryBucket.groupBy(SALARY_MIDPOINT_BUCKET).count().orderBy(SALARY_MIDPOINT_BUCKET).show()\n",
    "\n",
    "\n",
    "session.stop()\n"
   ]
  }
 ],
 "metadata": {
  "kernelspec": {
   "display_name": "Python 3",
   "language": "python",
   "name": "python3"
  },
  "language_info": {
   "codemirror_mode": {
    "name": "ipython",
    "version": 3
   },
   "file_extension": ".py",
   "mimetype": "text/x-python",
   "name": "python",
   "nbconvert_exporter": "python",
   "pygments_lexer": "ipython3",
   "version": "3.7.4"
  },
  "orig_nbformat": 4
 },
 "nbformat": 4,
 "nbformat_minor": 2
}
