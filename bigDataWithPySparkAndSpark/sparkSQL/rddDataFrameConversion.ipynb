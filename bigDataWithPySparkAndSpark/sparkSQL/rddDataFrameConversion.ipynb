{
 "cells": [
  {
   "cell_type": "code",
   "execution_count": 1,
   "metadata": {},
   "outputs": [],
   "source": [
    "import findspark\n",
    "findspark.init()\n",
    "from pyspark.sql import SparkSession\n",
    "from pyspark import SparkConf, SparkContext\n",
    "from Utils import Utils"
   ]
  },
  {
   "cell_type": "code",
   "execution_count": 2,
   "metadata": {},
   "outputs": [],
   "source": [
    "session = SparkSession.builder.appName(\"StackOverflowSurvey\").master(\"local[*]\").getOrCreate()\n",
    "sc = session.sparkContext\n"
   ]
  },
  {
   "cell_type": "code",
   "execution_count": 3,
   "metadata": {},
   "outputs": [],
   "source": [
    "def mapResponseRdd(line: str):\n",
    "    splits = Utils.COMMA_DELIMITER.split(line)\n",
    "    double1 = None if not splits[6] else float(splits[6])\n",
    "    double2 = None if not splits[14] else float(splits[14])\n",
    "    return splits[2], double1, splits[9], double2\n",
    "\n",
    "def getColNames(line: str):\n",
    "    splits = Utils.COMMA_DELIMITER.split(line)\n",
    "    return [splits[2], splits[6], splits[9], splits[14]]\n",
    "\n",
    "\n",
    "    "
   ]
  },
  {
   "cell_type": "code",
   "execution_count": 4,
   "metadata": {},
   "outputs": [],
   "source": [
    "filePath = 'e:\\\\Eskills-Academy-projects\\\\python-spark-tutorial-master\\\\in\\\\'\n",
    "fileName = \"2016-stack-overflow-survey-responses.csv\"\n",
    "file = filePath + fileName\n",
    "\n",
    "\n",
    "lines = sc.textFile(file)\n",
    "responseRDD = lines.filter(lambda line: not Utils.COMMA_DELIMITER.split(line)[2] == \"country\").map(mapResponseRdd)\n",
    "colNames = lines.filter(lambda line: Utils.COMMA_DELIMITER.split(line)[2] == \"country\").map(getColNames)"
   ]
  },
  {
   "cell_type": "code",
   "execution_count": null,
   "metadata": {},
   "outputs": [],
   "source": [
    "responseDataFrame = responseRDD.toDF(colNames.collect()[0])\n",
    "print(\"=== Print out schema ===\")\n",
    "responseDataFrame.printSchema()\n",
    "\n",
    "print(\"=== Print 20 records of responses table ===\")\n",
    "responseDataFrame.show(20)"
   ]
  }
 ],
 "metadata": {
  "kernelspec": {
   "display_name": "Python 3",
   "language": "python",
   "name": "python3"
  },
  "language_info": {
   "codemirror_mode": {
    "name": "ipython",
    "version": 3
   },
   "file_extension": ".py",
   "mimetype": "text/x-python",
   "name": "python",
   "nbconvert_exporter": "python",
   "pygments_lexer": "ipython3",
   "version": "3.7.4"
  },
  "orig_nbformat": 4
 },
 "nbformat": 4,
 "nbformat_minor": 2
}
