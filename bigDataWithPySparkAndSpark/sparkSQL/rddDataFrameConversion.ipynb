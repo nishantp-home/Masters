{
 "cells": [
  {
   "cell_type": "code",
   "execution_count": 6,
   "metadata": {},
   "outputs": [],
   "source": [
    "import findspark\n",
    "findspark.init()\n",
    "from pyspark.sql import SparkSession\n",
    "from pyspark import SparkConf, SparkContext\n",
    "from Utils import Utils"
   ]
  },
  {
   "cell_type": "code",
   "execution_count": 7,
   "metadata": {},
   "outputs": [],
   "source": [
    "session = SparkSession.builder.appName(\"StackOverflowSurvey\").master(\"local[*]\").getOrCreate()\n",
    "sc = session.sparkContext\n"
   ]
  },
  {
   "cell_type": "code",
   "execution_count": 8,
   "metadata": {},
   "outputs": [],
   "source": [
    "def mapResponseRdd(line: str):\n",
    "    splits = Utils.COMMA_DELIMITER.split(line)\n",
    "    double1 = None if not splits[6] else float(splits[6])\n",
    "    double2 = None if not splits[14] else float(splits[14])\n",
    "    return splits[2], double1, splits[9], double2\n",
    "\n",
    "def getColNames(line: str):\n",
    "    splits = Utils.COMMA_DELIMITER.split(line)\n",
    "    return [splits[2], splits[6], splits[9], splits[14]]\n",
    "\n",
    "\n",
    "    "
   ]
  },
  {
   "cell_type": "code",
   "execution_count": 9,
   "metadata": {},
   "outputs": [],
   "source": [
    "filePath = 'e:\\\\Eskills-Academy-projects\\\\python-spark-tutorial-master\\\\in\\\\'\n",
    "fileName = \"2016-stack-overflow-survey-responses.csv\"\n",
    "file = filePath + fileName\n",
    "\n",
    "\n",
    "lines = sc.textFile(file)\n",
    "responseRDD = lines.filter(lambda line: not Utils.COMMA_DELIMITER.split(line)[2] == \"country\").map(mapResponseRdd)\n",
    "colNames = lines.filter(lambda line: Utils.COMMA_DELIMITER.split(line)[2] == \"country\").map(getColNames)"
   ]
  },
  {
   "cell_type": "code",
   "execution_count": 10,
   "metadata": {},
   "outputs": [
    {
     "name": "stdout",
     "output_type": "stream",
     "text": [
      "=== Print out schema ===\n",
      "root\n",
      " |-- country: string (nullable = true)\n",
      " |-- age_midpoint: double (nullable = true)\n",
      " |-- occupation: string (nullable = true)\n",
      " |-- salary_midpoint: double (nullable = true)\n",
      "\n",
      "=== Print 20 records of responses table ===\n",
      "+-----------+------------+--------------------+---------------+\n",
      "|    country|age_midpoint|          occupation|salary_midpoint|\n",
      "+-----------+------------+--------------------+---------------+\n",
      "|Afghanistan|        22.0|                    |           NULL|\n",
      "|Afghanistan|        32.0|Mobile developer ...|        45000.0|\n",
      "|Afghanistan|        NULL|                    |           NULL|\n",
      "|Afghanistan|        NULL|              DevOps|         5000.0|\n",
      "|Afghanistan|        65.0|                    |           NULL|\n",
      "|Afghanistan|        22.0|                    |           NULL|\n",
      "|Afghanistan|        NULL|       Growth hacker|       210000.0|\n",
      "|Afghanistan|        27.0|Back-end web deve...|         5000.0|\n",
      "|    Albania|        27.0|                    |           NULL|\n",
      "|    Albania|        22.0|Back-end web deve...|         5000.0|\n",
      "|    Albania|        27.0|Full-stack web de...|         5000.0|\n",
      "|    Albania|        22.0|Full-stack web de...|        15000.0|\n",
      "|    Albania|        27.0|Full-stack web de...|         5000.0|\n",
      "|    Albania|        27.0|Back-end web deve...|         5000.0|\n",
      "|    Albania|        22.0|Back-end web deve...|        15000.0|\n",
      "|    Algeria|        44.5|                    |           NULL|\n",
      "|    Algeria|        27.0|   Desktop developer|           NULL|\n",
      "|    Algeria|        16.0|             Student|           NULL|\n",
      "|    Algeria|        22.0|                    |           NULL|\n",
      "|    Algeria|        27.0|   Desktop developer|        15000.0|\n",
      "+-----------+------------+--------------------+---------------+\n",
      "only showing top 20 rows\n",
      "\n"
     ]
    }
   ],
   "source": [
    "responseDataFrame = responseRDD.toDF(colNames.collect()[0])\n",
    "print(\"=== Print out schema ===\")\n",
    "responseDataFrame.printSchema()\n",
    "\n",
    "print(\"=== Print 20 records of responses table ===\")\n",
    "responseDataFrame.show(20)"
   ]
  }
 ],
 "metadata": {
  "kernelspec": {
   "display_name": "Python 3",
   "language": "python",
   "name": "python3"
  },
  "language_info": {
   "codemirror_mode": {
    "name": "ipython",
    "version": 3
   },
   "file_extension": ".py",
   "mimetype": "text/x-python",
   "name": "python",
   "nbconvert_exporter": "python",
   "pygments_lexer": "ipython3",
   "version": "3.7.4"
  },
  "orig_nbformat": 4
 },
 "nbformat": 4,
 "nbformat_minor": 2
}
