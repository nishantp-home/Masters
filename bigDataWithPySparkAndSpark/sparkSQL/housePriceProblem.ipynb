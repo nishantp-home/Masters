{
 "cells": [
  {
   "cell_type": "code",
   "execution_count": null,
   "metadata": {},
   "outputs": [],
   "source": [
    "import findspark \n",
    "findspark.init()\n",
    "from pyspark.sql import SparkSession\n",
    "session = SparkSession.builder.appName(\"HousePriceProblem\").master(\"local[1]\").getOrCreate()\n",
    "dataFrameReader = session.read"
   ]
  },
  {
   "cell_type": "code",
   "execution_count": null,
   "metadata": {},
   "outputs": [],
   "source": [
    "filePath = 'e:\\\\Eskills-Academy-projects\\\\python-spark-tutorial-master\\\\in\\\\'\n",
    "fileName = \"RealEstate.csv\"\n",
    "file = filePath + fileName\n",
    "realEstate = dataFrameReader.option(\"header\", \"true\").option(\"inferSchema\", value= True).csv(file)\n",
    "print(\"===== Print out schema =====\")\n",
    "realEstate.printSchema()"
   ]
  },
  {
   "cell_type": "code",
   "execution_count": null,
   "metadata": {},
   "outputs": [],
   "source": [
    "responsedWithLocationAndPricePerSqFeet = realEstate.select(\"Location\", \"Price SQ Ft\")\n",
    "responsedWithLocationAndPricePerSqFeet.show()\n",
    "groupedData = responsedWithLocationAndPricePerSqFeet.groupBy(\"Location\")\n",
    "groupedData.avg(\"Price SQ Ft\").orderBy(\"avg(Price SQ Ft)\", ascending= False).show()"
   ]
  },
  {
   "cell_type": "code",
   "execution_count": null,
   "metadata": {},
   "outputs": [],
   "source": [
    "\n"
   ]
  }
 ],
 "metadata": {
  "kernelspec": {
   "display_name": "Python 3",
   "language": "python",
   "name": "python3"
  },
  "language_info": {
   "codemirror_mode": {
    "name": "ipython",
    "version": 3
   },
   "file_extension": ".py",
   "mimetype": "text/x-python",
   "name": "python",
   "nbconvert_exporter": "python",
   "pygments_lexer": "ipython3",
   "version": "3.7.4"
  },
  "orig_nbformat": 4
 },
 "nbformat": 4,
 "nbformat_minor": 2
}
