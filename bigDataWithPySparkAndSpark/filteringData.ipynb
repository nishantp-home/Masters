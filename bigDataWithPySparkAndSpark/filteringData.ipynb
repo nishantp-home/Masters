{
 "cells": [
  {
   "cell_type": "code",
   "execution_count": 1,
   "metadata": {},
   "outputs": [],
   "source": [
    "# Import relevant packages\n",
    "import findspark\n",
    "findspark.init()\n",
    "from pyspark import SparkContext, SparkConf\n",
    "from Utils import Utils"
   ]
  },
  {
   "cell_type": "code",
   "execution_count": 3,
   "metadata": {},
   "outputs": [],
   "source": [
    "# Instantiate a SparkConf with an appName and threadCount to utilize (i.e. index in 'local[index]') \n",
    "conf = SparkConf().setAppName('airports').setMaster('local[2]')\n",
    "sc = SparkContext(conf=conf)    # Instantiate a SparkContext using conf"
   ]
  },
  {
   "cell_type": "code",
   "execution_count": 4,
   "metadata": {},
   "outputs": [],
   "source": [
    "# Input textFile path and name\n",
    "filePath = 'e:\\\\Eskills-Academy-projects\\\\python-spark-tutorial-master\\\\in\\\\'\n",
    "fileName = \"airports.text\"\n",
    "textFile = filePath + fileName\n",
    "\n",
    "# Read textFile into airports\n",
    "airports = sc.textFile(textFile)\n",
    "\n"
   ]
  },
  {
   "cell_type": "code",
   "execution_count": 5,
   "metadata": {},
   "outputs": [],
   "source": [
    "# Filtering airports in USA from all airports\n",
    "airportsInUSAFolder = \"airportsInUSA\"\n",
    "airportsInUSA = airports.filter(lambda line: Utils.COMMA_DELIMITER.split(line)[3] == \"\\\"United States\\\"\")\n",
    "airportNameAndCityNames = airportsInUSA.map(lambda line: [Utils.COMMA_DELIMITER.split(line)[1],\n",
    "                                                          Utils.COMMA_DELIMITER.split(line)[2]] )\n",
    "\n",
    "# airportNameAndCityNames = airportsInUSA.map(splitComma)\n",
    "airportNameAndCityNames.saveAsTextFile(airportsInUSAFolder)\n"
   ]
  },
  {
   "cell_type": "code",
   "execution_count": 6,
   "metadata": {},
   "outputs": [],
   "source": [
    "# Filtering airports with Latitude > 40 from all airports\n",
    "airportsByLatitudeFolder = \"airportsByLatitude\"\n",
    "latitudeIndex = 6\n",
    "\n",
    "airportsbyLatitude = airports.filter(lambda line: float(Utils.COMMA_DELIMITER.split(line)[latitudeIndex]) > 40)\n",
    "airpostNameAndLatitutde = airportsbyLatitude.map(lambda line: [Utils.COMMA_DELIMITER.split(line)[1],\n",
    "                                                          Utils.COMMA_DELIMITER.split(line)[latitudeIndex]])\n",
    "airpostNameAndLatitutde.saveAsTextFile(airportsByLatitudeFolder)"
   ]
  }
 ],
 "metadata": {
  "kernelspec": {
   "display_name": "Python 3",
   "language": "python",
   "name": "python3"
  },
  "language_info": {
   "codemirror_mode": {
    "name": "ipython",
    "version": 3
   },
   "file_extension": ".py",
   "mimetype": "text/x-python",
   "name": "python",
   "nbconvert_exporter": "python",
   "pygments_lexer": "ipython3",
   "version": "3.7.4"
  },
  "orig_nbformat": 4
 },
 "nbformat": 4,
 "nbformat_minor": 2
}
