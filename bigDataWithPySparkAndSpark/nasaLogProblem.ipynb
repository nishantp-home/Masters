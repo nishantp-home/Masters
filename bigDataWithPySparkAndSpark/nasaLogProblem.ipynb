{
 "cells": [
  {
   "cell_type": "code",
   "execution_count": 2,
   "metadata": {},
   "outputs": [],
   "source": [
    "# Import relevant packages\n",
    "import findspark\n",
    "findspark.init()\n",
    "from pyspark import SparkContext, SparkConf\n"
   ]
  },
  {
   "cell_type": "code",
   "execution_count": 3,
   "metadata": {},
   "outputs": [],
   "source": [
    "conf = SparkConf().setAppName('unionLogs').setMaster(\"local[*]\")   # It will run all the available cores on local cpu\n",
    "sc = SparkContext(conf=conf)"
   ]
  },
  {
   "cell_type": "code",
   "execution_count": 4,
   "metadata": {},
   "outputs": [],
   "source": [
    "# Import log data from tsv files\n",
    "filePath = 'file:///E:/Eskills-Academy-projects/python-spark-tutorial-master/in/'\n",
    "\n",
    "julyLogFileName = \"nasa_19950701.tsv\"\n",
    "julyFirstLogFile = filePath+julyLogFileName\n",
    "julyFirstLogs = sc.textFile(julyFirstLogFile)\n",
    "\n",
    "augustLogFileName = \"nasa_19950801.tsv\"\n",
    "augustFirstLogFile = filePath+augustLogFileName\n",
    "augustFirstLogs = sc.textFile(augustFirstLogFile)"
   ]
  },
  {
   "cell_type": "code",
   "execution_count": 4,
   "metadata": {},
   "outputs": [],
   "source": [
    "# Call union method on july and august log rdds\n",
    "aggregatedLogLines = julyFirstLogs.union(augustFirstLogs)\n",
    "\n",
    "# Filter out header lines, the input files have header starting with \"host\" and ending with \"bytes\"\n",
    "def isNotHeader(line: str):\n",
    "    return not (line.startswith(\"host\") and \"bytes\" in line)\n",
    "\n",
    "cleanLogLines = aggregatedLogLines.filter(isNotHeader)"
   ]
  },
  {
   "cell_type": "code",
   "execution_count": 5,
   "metadata": {},
   "outputs": [],
   "source": [
    "# Create and save a sample of 10% data to an output folder\n",
    "sample = cleanLogLines.sample(withReplacement=True, fraction=0.1)\n",
    "outSampleFolder = 'sampleNasaLogLines.csv'\n",
    "sample.saveAsTextFile(outSampleFolder)"
   ]
  },
  {
   "cell_type": "code",
   "execution_count": 5,
   "metadata": {},
   "outputs": [],
   "source": [
    "# Logs with same hosts from July 1st and August 1st\n",
    "julyFirstHosts = julyFirstLogs.map(lambda line: line.split(\"\\t\")[0])\n",
    "augustFirstHosts = augustFirstLogs.map(lambda line: line.split(\"\\t\")[0])\n",
    "\n",
    "# Get same host data, and remove the header name 'host'\n",
    "sameHosts = julyFirstHosts.union(augustFirstHosts).filter(lambda host: host !=\"host\")\n",
    "\n",
    "# Save to folder\n",
    "outFolder = \"nasaSameHosts.csv\"\n",
    "sameHosts.saveAsTextFile(outFolder)"
   ]
  }
 ],
 "metadata": {
  "kernelspec": {
   "display_name": "Python 3",
   "language": "python",
   "name": "python3"
  },
  "language_info": {
   "codemirror_mode": {
    "name": "ipython",
    "version": 3
   },
   "file_extension": ".py",
   "mimetype": "text/x-python",
   "name": "python",
   "nbconvert_exporter": "python",
   "pygments_lexer": "ipython3",
   "version": "3.7.4"
  },
  "orig_nbformat": 4
 },
 "nbformat": 4,
 "nbformat_minor": 2
}
