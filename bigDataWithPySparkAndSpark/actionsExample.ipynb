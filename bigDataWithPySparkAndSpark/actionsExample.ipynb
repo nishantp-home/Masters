{
 "cells": [
  {
   "cell_type": "code",
   "execution_count": 1,
   "metadata": {},
   "outputs": [],
   "source": [
    "# Import relevant packages\n",
    "import findspark\n",
    "findspark.init()\n",
    "from pyspark import SparkContext, SparkConf\n",
    "from Utils import Utils"
   ]
  },
  {
   "cell_type": "code",
   "execution_count": 2,
   "metadata": {},
   "outputs": [],
   "source": [
    "# Instantiate a SparkConf with an appName and threadCount to utilize (i.e. index in 'local[index]') \n",
    "conf = SparkConf().setAppName('collect').setMaster('local[*]')\n",
    "sc = SparkContext(conf=conf)    # Instantiate a SparkContext using conf"
   ]
  },
  {
   "cell_type": "code",
   "execution_count": 3,
   "metadata": {},
   "outputs": [],
   "source": [
    "inputWords = [\"I\", \"am\", \"Nishant\", \"Prajapati\", \"I\", \"love\", \"Data\", \"Sciences\", \"and\", \"I\", \"like\", \"Mechanical\", \"Sciences\"]  # List of strings\n",
    "wordRdd = sc.parallelize(inputWords)  # List of strings Rdd\n",
    "\n",
    "# Next we see common actions in Spark\n"
   ]
  },
  {
   "cell_type": "code",
   "execution_count": 4,
   "metadata": {},
   "outputs": [
    {
     "data": {
      "text/plain": [
       "['I',\n",
       " 'am',\n",
       " 'Nishant',\n",
       " 'Prajapati',\n",
       " 'I',\n",
       " 'love',\n",
       " 'Data',\n",
       " 'Sciences',\n",
       " 'and',\n",
       " 'I',\n",
       " 'like',\n",
       " 'Mechanical',\n",
       " 'Sciences']"
      ]
     },
     "execution_count": 4,
     "metadata": {},
     "output_type": "execute_result"
    }
   ],
   "source": [
    "# Action: Collect methd\n",
    "words = wordRdd.collect()   # Convert back to list of strings\n",
    "words"
   ]
  },
  {
   "cell_type": "code",
   "execution_count": 5,
   "metadata": {},
   "outputs": [
    {
     "data": {
      "text/plain": [
       "13"
      ]
     },
     "execution_count": 5,
     "metadata": {},
     "output_type": "execute_result"
    }
   ],
   "source": [
    "# Action: count() \n",
    "wordCount = wordRdd.count()\n",
    "wordCount"
   ]
  },
  {
   "cell_type": "code",
   "execution_count": 6,
   "metadata": {},
   "outputs": [
    {
     "data": {
      "text/plain": [
       "defaultdict(int,\n",
       "            {'I': 3,\n",
       "             'am': 1,\n",
       "             'Nishant': 1,\n",
       "             'Prajapati': 1,\n",
       "             'love': 1,\n",
       "             'Data': 1,\n",
       "             'Sciences': 2,\n",
       "             'and': 1,\n",
       "             'like': 1,\n",
       "             'Mechanical': 1})"
      ]
     },
     "execution_count": 6,
     "metadata": {},
     "output_type": "execute_result"
    }
   ],
   "source": [
    "# Action: countByValue()\n",
    "countByValue = wordRdd.countByValue()\n",
    "countByValue"
   ]
  },
  {
   "cell_type": "code",
   "execution_count": 7,
   "metadata": {},
   "outputs": [
    {
     "data": {
      "text/plain": [
       "defaultdict(int,\n",
       "            {'I': 3, 'a': 2, 'N': 1, 'P': 1, 'l': 2, 'D': 1, 'S': 2, 'M': 1})"
      ]
     },
     "execution_count": 7,
     "metadata": {},
     "output_type": "execute_result"
    }
   ],
   "source": [
    "countByKey = wordRdd.countByKey()\n",
    "countByKey"
   ]
  },
  {
   "cell_type": "code",
   "execution_count": 9,
   "metadata": {},
   "outputs": [
    {
     "data": {
      "text/plain": [
       "['I', 'am', 'Nishant']"
      ]
     },
     "execution_count": 9,
     "metadata": {},
     "output_type": "execute_result"
    }
   ],
   "source": [
    "# Action:  take(n), takes n elements from RDD\n",
    "# Its useful for unit tests and debugging\n",
    "words = wordRdd.take(3)   # First three entries / rows \n",
    "words"
   ]
  },
  {
   "cell_type": "code",
   "execution_count": 10,
   "metadata": {},
   "outputs": [
    {
     "data": {
      "text/plain": [
       "120"
      ]
     },
     "execution_count": 10,
     "metadata": {},
     "output_type": "execute_result"
    }
   ],
   "source": [
    "# Action: reduce(), reduces the elements of this RDD using a specified commutative and associative binary operator. \n",
    "inputIntegers = [1,2,3,4,5]\n",
    "intergerRdd = sc.parallelize(inputIntegers)\n",
    "\n",
    "product = intergerRdd.reduce(lambda x, y : x*y)\n",
    "product"
   ]
  },
  {
   "cell_type": "code",
   "execution_count": 21,
   "metadata": {},
   "outputs": [],
   "source": [
    "# Input textFile path and name\n",
    "filePath = 'e:\\\\Eskills-Academy-projects\\\\python-spark-tutorial-master\\\\in\\\\'\n",
    "fileName = \"prime_nums.text\"\n",
    "textFile = filePath + fileName\n",
    "\n",
    "lines = sc.textFile(textFile)"
   ]
  },
  {
   "cell_type": "code",
   "execution_count": 27,
   "metadata": {},
   "outputs": [],
   "source": [
    "numbers = lines.flatMap(lambda line: line.split(\"\\t\"))\n",
    "validNumbers = numbers.filter(lambda number: number)    # If number is an empty string, it returns false, and viceversa"
   ]
  },
  {
   "cell_type": "code",
   "execution_count": 38,
   "metadata": {},
   "outputs": [
    {
     "data": {
      "text/plain": [
       "24133"
      ]
     },
     "execution_count": 38,
     "metadata": {},
     "output_type": "execute_result"
    }
   ],
   "source": [
    "intNumbers = validNumbers.map(lambda number: int(number))  # Convert from string to integer\n",
    "# intNumbers.take(100)\n",
    "\n",
    "sum = intNumbers.reduce(lambda x, y: x + y)\n",
    "sum\n"
   ]
  }
 ],
 "metadata": {
  "kernelspec": {
   "display_name": "Python 3",
   "language": "python",
   "name": "python3"
  },
  "language_info": {
   "codemirror_mode": {
    "name": "ipython",
    "version": 3
   },
   "file_extension": ".py",
   "mimetype": "text/x-python",
   "name": "python",
   "nbconvert_exporter": "python",
   "pygments_lexer": "ipython3",
   "version": "3.7.4"
  },
  "orig_nbformat": 4
 },
 "nbformat": 4,
 "nbformat_minor": 2
}
